{
 "cells": [
  {
   "cell_type": "code",
   "execution_count": 1,
   "metadata": {},
   "outputs": [],
   "source": [
    "import pandas as pd\n",
    "import numpy as np\n",
    "import matplotlib.pyplot as plt\n",
    "import seaborn as sns\n",
    "from scipy import stats\n",
    "%matplotlib inline"
   ]
  },
  {
   "cell_type": "code",
   "execution_count": 2,
   "metadata": {},
   "outputs": [],
   "source": [
    "#####Change the sys_dir into the woring directory where the delivery folder is stored.\n",
    "\n",
    "sys_dir=\"/Users/mac/Desktop/Columbia/Spring/Captsone Project/delivery\"\n",
    "data = pd.read_csv(sys_dir+'/data/hurricane_data.csv')\n",
    "# data = pd.read_csv('/Users/mac/Desktop/Columbia/Spring/Captsone Project/data/hurricane_data.csv')"
   ]
  },
  {
   "cell_type": "markdown",
   "metadata": {},
   "source": [
    "## Step 1: Create Zone Table Cell by the magnitude of the hurricane data"
   ]
  },
  {
   "cell_type": "markdown",
   "metadata": {},
   "source": [
    "### Jamaican Zone (center: y=18, x=-77.5)\n",
    "\n",
    "1) Zone Domain: x=[-80,-74], y=[15,21]\n"
   ]
  },
  {
   "cell_type": "code",
   "execution_count": 3,
   "metadata": {},
   "outputs": [],
   "source": [
    "def createZoneTable(i, j,westlimit, southlimit, eastlimit, northlimit):\n",
    "    zone_table = list()\n",
    "    long_bucket = (eastlimit-westlimit)/i\n",
    "    #print (long_bucket)\n",
    "    lat_bucket = (northlimit-southlimit)/j\n",
    "    #print (lat_bucket)\n",
    "    for x in range(1,i+1):\n",
    "        for y in range(1,j+1):\n",
    "            swcord = [westlimit+(x-1)*long_bucket, southlimit+(y-1)*lat_bucket]\n",
    "            secord = [westlimit+x*long_bucket, southlimit+(y-1)*lat_bucket, ]\n",
    "            necord = [westlimit+x*long_bucket, southlimit+y*lat_bucket,]\n",
    "            nwcord = [westlimit+(x-1)*long_bucket, southlimit+y*lat_bucket,]\n",
    "            #print (x,y,(x-1)*j+y,swcord, secord, necord, nwcord, swcord)\n",
    "            zone_table.append((str(x),str(y),(x-1)*j+y,[swcord, secord, necord, nwcord, swcord]))\n",
    "    return zone_table\n"
   ]
  },
  {
   "cell_type": "code",
   "execution_count": 4,
   "metadata": {},
   "outputs": [],
   "source": [
    "def createGeoJsonObject(zone_table):\n",
    "    zone_data_dict = dict()\n",
    "    zone_data_dict['type'] = 'FeatureCollection'\n",
    "    zone_data_dict_features = list()\n",
    "    zone_data_dict['features'] = zone_data_dict_features\n",
    "    \n",
    "    for i in range(len(zone_table)):\n",
    "        geometry={}\n",
    "        coordinates={}\n",
    "        result={}\n",
    "        geometry['coordinates']=[zone_table[i][3]]\n",
    "        geometry['type']='Polygon'\n",
    "        result['geometry']=geometry\n",
    "        result['properties']={'zone_x':zone_table[i][0],'zone_y':zone_table[i][1], 'zone_id':zone_table[i][2]}\n",
    "        result['type']='Feature'\n",
    "        zone_data_dict_features.append(result)\n",
    "    return zone_data_dict\n"
   ]
  },
  {
   "cell_type": "markdown",
   "metadata": {},
   "source": [
    "## Step 2: Create Zone Table\n",
    "### Change i, j in the 5th command window to tune the domain size."
   ]
  },
  {
   "cell_type": "code",
   "execution_count": 5,
   "metadata": {},
   "outputs": [],
   "source": [
    "##########Setting parameters to create a i*j Map Cells\n",
    "## i = number of cells on the longitude\n",
    "## j = number of cells on the latitude\n",
    "\n",
    "\n",
    "i=6\n",
    "j=6\n",
    "\n",
    "#Set the x_center and y_center: the center coordinate of the affected domain\n",
    "x_center=-77\n",
    "y_center=18"
   ]
  },
  {
   "cell_type": "code",
   "execution_count": 7,
   "metadata": {},
   "outputs": [],
   "source": [
    "#createZoneTable(i,j) returns a i*j matrix zone table\n",
    "westlimit=x_center-i/2\n",
    "eastlimit=x_center+i/2\n",
    "southlimit=y_center-j/2\n",
    "northlimit=y_center+j/2\n",
    "\n",
    "zone_table  = createZoneTable(i, j,westlimit, southlimit, eastlimit, northlimit)\n",
    "\n"
   ]
  },
  {
   "cell_type": "code",
   "execution_count": 8,
   "metadata": {},
   "outputs": [],
   "source": [
    "geojson_obj=createGeoJsonObject(zone_table)"
   ]
  },
  {
   "cell_type": "code",
   "execution_count": 9,
   "metadata": {},
   "outputs": [],
   "source": [
    "# #check geojson object by looking at the last cell\n",
    "# # last cell should be the north-east corner cell\n",
    "# print (geojson_obj[\"features\"][0])\n",
    "# print (geojson_obj[\"features\"][-1])"
   ]
  },
  {
   "cell_type": "code",
   "execution_count": 10,
   "metadata": {},
   "outputs": [],
   "source": [
    "from pandas.io.json import json_normalize\n",
    "df = json_normalize(geojson_obj[\"features\"])\n",
    "df=df[['geometry.coordinates','properties.zone_id']]\n",
    "# df.head()"
   ]
  },
  {
   "cell_type": "markdown",
   "metadata": {},
   "source": [
    "## Step 3: Eliminate Tracks outside of the Expected Map Zone\n",
    "\n",
    "1) Create binary variable for x and y in the map zone\n",
    "   \n",
    "   x_in_zone: 1 if in zone, 0 if out of zone\n",
    "   \n",
    "   y_in_zone: 1 if in zone, 0 if out of zone\n",
    "\n",
    "2) Create binary variable indicating track point in zone:\n",
    "   \n",
    "   If x_in_zone+y_in_zone==2: track_in_zone=1\n",
    "   \n",
    "3) If for each track, sum('track_in_zone')==0: drop track\n",
    "\n",
    "\n",
    "\n"
   ]
  },
  {
   "cell_type": "code",
   "execution_count": 11,
   "metadata": {},
   "outputs": [],
   "source": [
    "def in_zone(data, westlimit, southlimit, eastlimit, northlimit):\n",
    "    data['x_in_zone'] = np.where((data['x']>=westlimit) & (data['x']<=eastlimit), 1, 0 )\n",
    "    data['y_in_zone'] = np.where((data['y']>=southlimit) & (data['y']<=northlimit), 1, 0 )\n",
    "    \n",
    "    data['in_zone'] = np.where( data['x_in_zone']+data['y_in_zone']==2, 1, 0 )\n",
    "\n",
    "    temp=pd.DataFrame(data.groupby('code')['in_zone'].sum())\n",
    "    temp['track_in_zone']=np.where(temp['in_zone']>0,1,0)\n",
    "    temp.drop(columns=['in_zone'], inplace=True)\n",
    "    data_jamaica=pd.merge(data, temp, how=\"inner\", on='code', sort=False)\n",
    "    data_jamaica.drop(columns = ['Unnamed: 0','in_zone'], inplace=True)\n",
    "    \n",
    "    data_jamaica.drop(data_jamaica[data_jamaica['track_in_zone']==0].index, axis=0, inplace=True)\n",
    "    \n",
    "    return data_jamaica"
   ]
  },
  {
   "cell_type": "code",
   "execution_count": 12,
   "metadata": {},
   "outputs": [],
   "source": [
    "data_jamaica=in_zone(data,westlimit, southlimit, eastlimit, northlimit)"
   ]
  },
  {
   "cell_type": "markdown",
   "metadata": {},
   "source": [
    "## Eliminate Track Points outside of the Jamaica Zone"
   ]
  },
  {
   "cell_type": "code",
   "execution_count": 13,
   "metadata": {},
   "outputs": [],
   "source": [
    "def points_in_zone(data_jamaica):\n",
    "    data_jamaica['temp']=data_jamaica['x_in_zone']+data_jamaica['y_in_zone']\n",
    "    data_jamaica_in_zone=data_jamaica.drop(data_jamaica[data_jamaica['temp']<2].index, axis=0)\n",
    "    data_jamaica_in_zone.drop(columns=['temp','x_in_zone','y_in_zone','track_in_zone'], inplace=True)\n",
    "    \n",
    "    return data_jamaica_in_zone"
   ]
  },
  {
   "cell_type": "code",
   "execution_count": 14,
   "metadata": {},
   "outputs": [],
   "source": [
    "data_jamaica_in_zone = points_in_zone(data_jamaica)"
   ]
  },
  {
   "cell_type": "code",
   "execution_count": 15,
   "metadata": {},
   "outputs": [
    {
     "data": {
      "text/plain": [
       "12548"
      ]
     },
     "execution_count": 15,
     "metadata": {},
     "output_type": "execute_result"
    }
   ],
   "source": [
    "### How many hurricane track in our defined domain\n",
    "len(data_jamaica_in_zone['code'].unique())"
   ]
  },
  {
   "cell_type": "code",
   "execution_count": 16,
   "metadata": {},
   "outputs": [],
   "source": [
    "#save hurricane data with zone id and map cell data files\n",
    "data_jamaica_in_zone.to_csv(sys_dir+'/intermediate/hurricane_in_jamaica.csv')\n",
    "df.to_csv(sys_dir+'/intermediate/Jamaica_map_zone_id.csv')"
   ]
  },
  {
   "cell_type": "markdown",
   "metadata": {},
   "source": [
    "## Step 4: Create zone id for hurricane table"
   ]
  },
  {
   "cell_type": "markdown",
   "metadata": {},
   "source": [
    " given point (-77.350, 26.146), proportion to cell = (x-westlimit(-120))/bucket, (y-southlimit(-1))/bucket\n",
    "\n",
    "this point is at 42.65, 27.146 >>> zone_id '4228' (42.65 rounded down, 27.146 roundup)"
   ]
  },
  {
   "cell_type": "code",
   "execution_count": 17,
   "metadata": {},
   "outputs": [],
   "source": [
    "data=pd.read_csv(sys_dir+'/intermediate/hurricane_in_jamaica.csv', index_col=0)"
   ]
  },
  {
   "cell_type": "code",
   "execution_count": 18,
   "metadata": {},
   "outputs": [
    {
     "data": {
      "text/html": [
       "<div>\n",
       "<style scoped>\n",
       "    .dataframe tbody tr th:only-of-type {\n",
       "        vertical-align: middle;\n",
       "    }\n",
       "\n",
       "    .dataframe tbody tr th {\n",
       "        vertical-align: top;\n",
       "    }\n",
       "\n",
       "    .dataframe thead th {\n",
       "        text-align: right;\n",
       "    }\n",
       "</style>\n",
       "<table border=\"1\" class=\"dataframe\">\n",
       "  <thead>\n",
       "    <tr style=\"text-align: right;\">\n",
       "      <th></th>\n",
       "      <th>date</th>\n",
       "      <th>x</th>\n",
       "      <th>y</th>\n",
       "      <th>mslp</th>\n",
       "      <th>mws</th>\n",
       "      <th>rmw</th>\n",
       "      <th>code</th>\n",
       "      <th>mph</th>\n",
       "      <th>cat</th>\n",
       "    </tr>\n",
       "  </thead>\n",
       "  <tbody>\n",
       "    <tr>\n",
       "      <th>272</th>\n",
       "      <td>0001-11-04 00:00</td>\n",
       "      <td>-78.458</td>\n",
       "      <td>16.389</td>\n",
       "      <td>1000.710</td>\n",
       "      <td>47.605</td>\n",
       "      <td>34.482</td>\n",
       "      <td>10</td>\n",
       "      <td>54.782882</td>\n",
       "      <td>0</td>\n",
       "    </tr>\n",
       "    <tr>\n",
       "      <th>273</th>\n",
       "      <td>0001-11-04 06:00</td>\n",
       "      <td>-77.079</td>\n",
       "      <td>17.272</td>\n",
       "      <td>999.305</td>\n",
       "      <td>49.447</td>\n",
       "      <td>36.641</td>\n",
       "      <td>10</td>\n",
       "      <td>56.902619</td>\n",
       "      <td>0</td>\n",
       "    </tr>\n",
       "    <tr>\n",
       "      <th>274</th>\n",
       "      <td>0001-11-04 12:00</td>\n",
       "      <td>-75.533</td>\n",
       "      <td>18.050</td>\n",
       "      <td>998.110</td>\n",
       "      <td>51.005</td>\n",
       "      <td>37.482</td>\n",
       "      <td>10</td>\n",
       "      <td>58.695534</td>\n",
       "      <td>0</td>\n",
       "    </tr>\n",
       "    <tr>\n",
       "      <th>275</th>\n",
       "      <td>0001-11-04 18:00</td>\n",
       "      <td>-74.275</td>\n",
       "      <td>18.727</td>\n",
       "      <td>997.159</td>\n",
       "      <td>54.144</td>\n",
       "      <td>38.041</td>\n",
       "      <td>10</td>\n",
       "      <td>62.307832</td>\n",
       "      <td>0</td>\n",
       "    </tr>\n",
       "    <tr>\n",
       "      <th>373</th>\n",
       "      <td>0002-08-15 18:00</td>\n",
       "      <td>-74.382</td>\n",
       "      <td>17.631</td>\n",
       "      <td>923.150</td>\n",
       "      <td>131.924</td>\n",
       "      <td>21.787</td>\n",
       "      <td>13</td>\n",
       "      <td>151.815501</td>\n",
       "      <td>4</td>\n",
       "    </tr>\n",
       "  </tbody>\n",
       "</table>\n",
       "</div>"
      ],
      "text/plain": [
       "                 date       x       y      mslp      mws     rmw  code  \\\n",
       "272  0001-11-04 00:00 -78.458  16.389  1000.710   47.605  34.482    10   \n",
       "273  0001-11-04 06:00 -77.079  17.272   999.305   49.447  36.641    10   \n",
       "274  0001-11-04 12:00 -75.533  18.050   998.110   51.005  37.482    10   \n",
       "275  0001-11-04 18:00 -74.275  18.727   997.159   54.144  38.041    10   \n",
       "373  0002-08-15 18:00 -74.382  17.631   923.150  131.924  21.787    13   \n",
       "\n",
       "            mph  cat  \n",
       "272   54.782882    0  \n",
       "273   56.902619    0  \n",
       "274   58.695534    0  \n",
       "275   62.307832    0  \n",
       "373  151.815501    4  "
      ]
     },
     "execution_count": 18,
     "metadata": {},
     "output_type": "execute_result"
    }
   ],
   "source": [
    "data.head()"
   ]
  },
  {
   "cell_type": "code",
   "execution_count": 19,
   "metadata": {},
   "outputs": [],
   "source": [
    "# assign zone_id to points data['x','y']\n",
    "data['zone_id_x'] = data['x'].apply(lambda x: (x-westlimit)).apply(np.ceil)\n",
    "data['zone_id_y'] = data['y'].apply(lambda x: (x-southlimit)).apply(np.ceil)\n",
    "\n",
    "data.loc[data.zone_id_x==0, 'zone_id_x'] = 1\n",
    "data.loc[data.zone_id_y==0, 'zone_id_y'] = 1 "
   ]
  },
  {
   "cell_type": "code",
   "execution_count": 20,
   "metadata": {},
   "outputs": [
    {
     "name": "stdout",
     "output_type": "stream",
     "text": [
      "6.0 6.0\n",
      "1.0 1.0\n"
     ]
    }
   ],
   "source": [
    "#check if zone_id for x and y coordinates are correct\n",
    "print (data['zone_id_x'].max(),data['zone_id_y'].max())\n",
    "print (data['zone_id_x'].min(),data['zone_id_y'].min())"
   ]
  },
  {
   "cell_type": "code",
   "execution_count": 21,
   "metadata": {},
   "outputs": [],
   "source": [
    "def zone_id(df):\n",
    "    step=df['zone_id_x'].max()-df['zone_id_x'].min()+1\n",
    "    return (df['zone_id_x']-1)*step+df['zone_id_y']"
   ]
  },
  {
   "cell_type": "code",
   "execution_count": 22,
   "metadata": {},
   "outputs": [],
   "source": [
    "data['zone_id']=zone_id(data)"
   ]
  },
  {
   "cell_type": "code",
   "execution_count": 23,
   "metadata": {},
   "outputs": [],
   "source": [
    "data['zone_id_x']=data['zone_id_x'].astype(int)\n",
    "data['zone_id_y']=data['zone_id_y'].astype(int)\n",
    "data['zone_id']=data['zone_id'].astype(int)"
   ]
  },
  {
   "cell_type": "code",
   "execution_count": 24,
   "metadata": {},
   "outputs": [],
   "source": [
    "data.drop(columns=['mslp','mws','rmw','mph'],inplace=True)"
   ]
  },
  {
   "cell_type": "markdown",
   "metadata": {},
   "source": [
    "## Step 5: Import Actual Loss Table and merge with Hurricane Dataset\n"
   ]
  },
  {
   "cell_type": "code",
   "execution_count": 25,
   "metadata": {},
   "outputs": [],
   "source": [
    "loss_df=pd.read_csv(sys_dir+\"/data/Loss_table_022020.csv\")"
   ]
  },
  {
   "cell_type": "code",
   "execution_count": 26,
   "metadata": {},
   "outputs": [
    {
     "data": {
      "text/html": [
       "<div>\n",
       "<style scoped>\n",
       "    .dataframe tbody tr th:only-of-type {\n",
       "        vertical-align: middle;\n",
       "    }\n",
       "\n",
       "    .dataframe tbody tr th {\n",
       "        vertical-align: top;\n",
       "    }\n",
       "\n",
       "    .dataframe thead th {\n",
       "        text-align: right;\n",
       "    }\n",
       "</style>\n",
       "<table border=\"1\" class=\"dataframe\">\n",
       "  <thead>\n",
       "    <tr style=\"text-align: right;\">\n",
       "      <th></th>\n",
       "      <th>Code</th>\n",
       "      <th>Loss</th>\n",
       "    </tr>\n",
       "  </thead>\n",
       "  <tbody>\n",
       "    <tr>\n",
       "      <th>0</th>\n",
       "      <td>0</td>\n",
       "      <td>611</td>\n",
       "    </tr>\n",
       "    <tr>\n",
       "      <th>1</th>\n",
       "      <td>1</td>\n",
       "      <td>0</td>\n",
       "    </tr>\n",
       "    <tr>\n",
       "      <th>2</th>\n",
       "      <td>2</td>\n",
       "      <td>0</td>\n",
       "    </tr>\n",
       "    <tr>\n",
       "      <th>3</th>\n",
       "      <td>3</td>\n",
       "      <td>0</td>\n",
       "    </tr>\n",
       "    <tr>\n",
       "      <th>4</th>\n",
       "      <td>4</td>\n",
       "      <td>0</td>\n",
       "    </tr>\n",
       "  </tbody>\n",
       "</table>\n",
       "</div>"
      ],
      "text/plain": [
       "   Code  Loss\n",
       "0     0   611\n",
       "1     1     0\n",
       "2     2     0\n",
       "3     3     0\n",
       "4     4     0"
      ]
     },
     "execution_count": 26,
     "metadata": {},
     "output_type": "execute_result"
    }
   ],
   "source": [
    "loss_df.head()"
   ]
  },
  {
   "cell_type": "code",
   "execution_count": 27,
   "metadata": {},
   "outputs": [],
   "source": [
    "loss_df.rename(columns = {'Code':'code', 'Loss':'loss'}, inplace = True) "
   ]
  },
  {
   "cell_type": "code",
   "execution_count": 28,
   "metadata": {},
   "outputs": [],
   "source": [
    "data_loss = pd.merge(data, loss_df, how=\"inner\", on='code', sort=False)"
   ]
  },
  {
   "cell_type": "code",
   "execution_count": 29,
   "metadata": {},
   "outputs": [],
   "source": [
    "data_loss.to_csv(sys_dir+'/intermediate/hurricane_with_loss.csv')"
   ]
  },
  {
   "cell_type": "markdown",
   "metadata": {},
   "source": [
    "## Step 6: Generate binary variables to mark not neiboring points"
   ]
  },
  {
   "cell_type": "code",
   "execution_count": 30,
   "metadata": {},
   "outputs": [],
   "source": [
    "data=pd.read_csv(sys_dir+'/intermediate/hurricane_with_loss.csv',index_col=0)"
   ]
  },
  {
   "cell_type": "code",
   "execution_count": 31,
   "metadata": {},
   "outputs": [],
   "source": [
    "def gen_diff(data):\n",
    "    data['x_diff0']=data['zone_id_x'].diff()\n",
    "    data['y_diff0']=data['zone_id_y'].diff()\n",
    "    data['code_diff']=data['code'].diff()\n",
    "    \n",
    "    data=data.fillna(0)\n",
    "    \n",
    "    data.loc[data['code_diff']==0.0, 'x_diff'] = data['x_diff0'] \n",
    "    data.loc[data['code_diff']==0.0, 'y_diff'] = data['y_diff0'] \n",
    "    data=data.fillna(0)\n",
    "    \n",
    "    data['x_diff']=data['x_diff'].abs()\n",
    "    data['y_diff']=data['y_diff'].abs()\n",
    "    \n",
    "    data=data.drop(columns=['x_diff0','y_diff0'])\n",
    "    \n",
    "    return data"
   ]
  },
  {
   "cell_type": "code",
   "execution_count": 32,
   "metadata": {},
   "outputs": [],
   "source": [
    "### generate binary variable indicating neighboring points as 1, not neighboring as 0\n",
    "\n",
    "def gen_neighbor(data):\n",
    "    data.loc[data['x_diff']+data['y_diff']>1, 'neighbor'] = 0\n",
    "    data.loc[data['x_diff']+data['y_diff']<=1, 'neighbor'] = 1\n",
    "    return data"
   ]
  },
  {
   "cell_type": "code",
   "execution_count": 33,
   "metadata": {},
   "outputs": [],
   "source": [
    "data=gen_diff(data)\n",
    "data=gen_neighbor(data)"
   ]
  },
  {
   "cell_type": "markdown",
   "metadata": {},
   "source": [
    "## Step 7: Fulfill missing points between non-adjacent points"
   ]
  },
  {
   "cell_type": "code",
   "execution_count": 34,
   "metadata": {},
   "outputs": [],
   "source": [
    "def zone_id(df):\n",
    "    step=df['zone_id_x'].max()-df['zone_id_x'].min()+1\n",
    "    return (df['zone_id_x']-1)*step+df['zone_id_y']"
   ]
  },
  {
   "cell_type": "code",
   "execution_count": 35,
   "metadata": {},
   "outputs": [],
   "source": [
    "def gen_id(data):\n",
    "    \n",
    "    data.fillna(0)\n",
    "\n",
    "    data['zone_id_x'] = data['x'].apply(lambda x: (x+81)).apply(np.floor)\n",
    "    data['zone_id_y'] = data['y'].apply(lambda x: (x-14)).apply(np.floor)\n",
    "\n",
    "    data.loc[data.zone_id_x==7, 'zone_id_x'] = 6 \n",
    "    data.loc[data.zone_id_y==7, 'zone_id_y'] = 6 \n",
    "\n",
    "    data['zone_id']=zone_id(data)\n",
    "    \n",
    "    \n",
    "    return data"
   ]
  },
  {
   "cell_type": "code",
   "execution_count": 36,
   "metadata": {},
   "outputs": [],
   "source": [
    "def gen_points(x1,y1,x0,y0,cat0,loss0,code0):\n",
    "    import math\n",
    "    x_max=max(x1,x0)\n",
    "    x_min=min(x1,x0)\n",
    "    x_list=list(range(math.ceil(x_min),math.ceil(x_max)))\n",
    "    point_x=[x+0.00001 for x in x_list]+[x-0.00001 for x in x_list]\n",
    "    \n",
    "    x_y=[(x-x0)*(y1-y0)/(x1-x0)+y0 for x in point_x]\n",
    "    #print (x_y)\n",
    "    \n",
    "    \n",
    "    #y integers\n",
    "    y_max=max(y1,y0)\n",
    "    y_min=min(y1,y0)\n",
    "    y_list=list(range(math.ceil(y_min),math.ceil(y_max)))\n",
    "    point_y=[y+0.00001 for y in y_list]+[y-0.00001 for y in y_list]\n",
    "    #points \n",
    "    \n",
    "    y_x=[(y-y0)*(x1-x0)/(y1-y0)+x0 for y in point_y]\n",
    "    #print (y_x)\n",
    "    \n",
    "    point_x+=y_x\n",
    "    x_y+=point_y\n",
    "    \n",
    "    cat=[cat0]*len(point_x)\n",
    "    loss=[loss0]*len(point_x)\n",
    "    code=[code0]*len(point_x)\n",
    "    neighbor=[1.0]*len(point_x)\n",
    "\n",
    "    df=pd.DataFrame(list(zip(code,point_x, x_y,cat,neighbor,loss)), columns =['code','x','y','cat','neighbor','loss'])\n",
    "\n",
    "    return df"
   ]
  },
  {
   "cell_type": "code",
   "execution_count": null,
   "metadata": {},
   "outputs": [],
   "source": []
  },
  {
   "cell_type": "markdown",
   "metadata": {},
   "source": [
    "# Final Step\n",
    "## Step 8: Generate A Matrix"
   ]
  },
  {
   "cell_type": "code",
   "execution_count": 37,
   "metadata": {},
   "outputs": [],
   "source": [
    "### Set the \"zone_len\" parameter according to our domain size\n",
    "### zone_len = i*j\n",
    "\n",
    "zone_len=6*6"
   ]
  },
  {
   "cell_type": "code",
   "execution_count": 39,
   "metadata": {},
   "outputs": [],
   "source": [
    "#generate A Matrix\n",
    "\n",
    "a_mat = pd.DataFrame()\n",
    "\n",
    "for j in list(data['code'].unique()):\n",
    "    print (j)\n",
    "    df_track=data[data['code']==j]\n",
    "    df_track=df_track.reset_index()\n",
    "    for i in list(df_track.index):\n",
    "        if df_track['neighbor'][i]==0.0:\n",
    "            df=gen_points(df_track['x'][i], df_track['y'][i],df_track['x'][i-1], df_track['y'][i-1],df_track['cat'][i-1],df_track['loss'][i-1],df_track['code'][i-1])\n",
    "            df_track=df_track.append(df).reset_index().drop(columns=['level_0'])\n",
    "\n",
    "    df_track=gen_id(df_track)    \n",
    "\n",
    "    track= [0]*zone_len*6+[0]\n",
    "    passed_cells=df_track[\"zone_id\"].unique()\n",
    "    #print (df_track[\"zone_id\"].unique())\n",
    "    for cells in passed_cells:\n",
    "        max_cat=int(df_track[df_track['zone_id']==cells]['cat'].nlargest(1).values)\n",
    "        #print (cells, max_cat)\n",
    "        track[int(cells-1)*6+max_cat-1]=1\n",
    "    track[-1]=int(df_track[df_track['zone_id']==cells]['loss'].nlargest(1).values)\n",
    "    a_mat = a_mat.append([track],ignore_index = True)"
   ]
  },
  {
   "cell_type": "code",
   "execution_count": null,
   "metadata": {},
   "outputs": [],
   "source": [
    "a_mat.to_csv(sys_dir+'/output/a_mat_6_6.csv')"
   ]
  },
  {
   "cell_type": "code",
   "execution_count": null,
   "metadata": {},
   "outputs": [],
   "source": []
  }
 ],
 "metadata": {
  "kernelspec": {
   "display_name": "Python 3",
   "language": "python",
   "name": "python3"
  },
  "language_info": {
   "codemirror_mode": {
    "name": "ipython",
    "version": 3
   },
   "file_extension": ".py",
   "mimetype": "text/x-python",
   "name": "python",
   "nbconvert_exporter": "python",
   "pygments_lexer": "ipython3",
   "version": "3.7.3"
  }
 },
 "nbformat": 4,
 "nbformat_minor": 2
}
